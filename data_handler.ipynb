{
 "cells": [
  {
   "cell_type": "code",
   "execution_count": 1,
   "metadata": {},
   "outputs": [
    {
     "name": "stdout",
     "output_type": "stream",
     "text": [
      "<class 'pandas.core.frame.DataFrame'>\n",
      "RangeIndex: 250000 entries, 0 to 249999\n",
      "Data columns (total 15 columns):\n",
      " #   Column                 Non-Null Count   Dtype  \n",
      "---  ------                 --------------   -----  \n",
      " 0   Customer ID            250000 non-null  int64  \n",
      " 1   Purchase Date          250000 non-null  object \n",
      " 2   Product Category       250000 non-null  object \n",
      " 3   Product Price          250000 non-null  int64  \n",
      " 4   Quantity               250000 non-null  int64  \n",
      " 5   Total purchase amount  250000 non-null  int64  \n",
      " 6   Payment Method         250000 non-null  object \n",
      " 7   Customer Age           250000 non-null  int64  \n",
      " 8   Returns                250000 non-null  int64  \n",
      " 9   Customer Name          250000 non-null  object \n",
      " 10  Age                    250000 non-null  int64  \n",
      " 11  Gender                 250000 non-null  object \n",
      " 12  Churn                  250000 non-null  float64\n",
      " 13  Product/Income Ratio   250000 non-null  float64\n",
      " 14  Discount Apply         250000 non-null  int64  \n",
      "dtypes: float64(2), int64(8), object(5)\n",
      "memory usage: 28.6+ MB\n"
     ]
    },
    {
     "data": {
      "text/plain": [
       "(None,\n",
       "    Customer ID     Purchase Date Product Category  Product Price  Quantity  \\\n",
       " 0        46251    5/4/2023 20:12      Electronics             12         3   \n",
       " 1        46251     9/1/2022 6:22             Home            468         4   \n",
       " 2        46251  20/04/2022 13:03             Home            288         2   \n",
       " 3        46251     5/7/2023 1:57         Clothing            196         1   \n",
       " 4        13593  14/11/2021 21:43             Home            449         1   \n",
       " \n",
       "    Total purchase amount Payment Method  Customer Age  Returns  \\\n",
       " 0                     36         Crypto            37        0   \n",
       " 1                   1872    Credit Card            37        0   \n",
       " 2                    576    Credit Card            37        0   \n",
       " 3                    196         Crypto            37        0   \n",
       " 4                    449    Credit Card            49        1   \n",
       " \n",
       "          Customer Name  Age  Gender  Churn  Product/Income Ratio  \\\n",
       " 0  Christine Hernandez   37    Male  0.355                  0.05   \n",
       " 1  Christine Hernandez   37    Male  0.355                  1.96   \n",
       " 2  Christine Hernandez   37    Male  0.355                  1.25   \n",
       " 3  Christine Hernandez   37    Male  0.355                  0.77   \n",
       " 4          James Grant   49  Female  0.355                  1.98   \n",
       " \n",
       "    Discount Apply  \n",
       " 0              11  \n",
       " 1               7  \n",
       " 2               0  \n",
       " 3              11  \n",
       " 4              11  )"
      ]
     },
     "execution_count": 1,
     "metadata": {},
     "output_type": "execute_result"
    }
   ],
   "source": [
    "import pandas as pd\n",
    "\n",
    "# Load the dataset\n",
    "data = pd.read_csv(r'C:\\Cheynhen\\Python\\Dataset\\e-commerce\\Finaldata_Adjusted_Income_Product_Ratio_Dataset.csv')\n",
    "\n",
    "# Display basic information and first few rows of the dataset to assess its structure\n",
    "data_info = data.info()\n",
    "data_head = data.head()\n",
    "\n",
    "data_info, data_head"
   ]
  },
  {
   "cell_type": "code",
   "execution_count": 7,
   "metadata": {},
   "outputs": [
    {
     "name": "stderr",
     "output_type": "stream",
     "text": [
      "C:\\Users\\ASUS\\AppData\\Local\\Temp\\ipykernel_2856\\726893623.py:10: FutureWarning: A value is trying to be set on a copy of a DataFrame or Series through chained assignment using an inplace method.\n",
      "The behavior will change in pandas 3.0. This inplace method will never work because the intermediate object on which we are setting values always behaves as a copy.\n",
      "\n",
      "For example, when doing 'df[col].method(value, inplace=True)', try using 'df.method({col: value}, inplace=True)' or df[col] = df[col].method(value) instead, to perform the operation inplace on the original object.\n",
      "\n",
      "\n",
      "  data_cleaned['Returns'].fillna(0.0, inplace=True)\n",
      "C:\\Users\\ASUS\\AppData\\Local\\Temp\\ipykernel_2856\\726893623.py:22: FutureWarning: A value is trying to be set on a copy of a DataFrame or Series through chained assignment using an inplace method.\n",
      "The behavior will change in pandas 3.0. This inplace method will never work because the intermediate object on which we are setting values always behaves as a copy.\n",
      "\n",
      "For example, when doing 'df[col].method(value, inplace=True)', try using 'df.method({col: value}, inplace=True)' or df[col] = df[col].method(value) instead, to perform the operation inplace on the original object.\n",
      "\n",
      "\n",
      "  data_cleaned['Gender'].replace({'Male':0, 'Female':1}, inplace=True)\n",
      "C:\\Users\\ASUS\\AppData\\Local\\Temp\\ipykernel_2856\\726893623.py:22: FutureWarning: Downcasting behavior in `replace` is deprecated and will be removed in a future version. To retain the old behavior, explicitly call `result.infer_objects(copy=False)`. To opt-in to the future behavior, set `pd.set_option('future.no_silent_downcasting', True)`\n",
      "  data_cleaned['Gender'].replace({'Male':0, 'Female':1}, inplace=True)\n",
      "C:\\Users\\ASUS\\AppData\\Local\\Temp\\ipykernel_2856\\726893623.py:26: FutureWarning: A value is trying to be set on a copy of a DataFrame or Series through chained assignment using an inplace method.\n",
      "The behavior will change in pandas 3.0. This inplace method will never work because the intermediate object on which we are setting values always behaves as a copy.\n",
      "\n",
      "For example, when doing 'df[col].method(value, inplace=True)', try using 'df.method({col: value}, inplace=True)' or df[col] = df[col].method(value) instead, to perform the operation inplace on the original object.\n",
      "\n",
      "\n",
      "  data_cleaned['Product Category'].replace({'Electronics':0, 'Home':1, 'Clothing':2, 'Books':3}, inplace=True)\n",
      "C:\\Users\\ASUS\\AppData\\Local\\Temp\\ipykernel_2856\\726893623.py:26: FutureWarning: Downcasting behavior in `replace` is deprecated and will be removed in a future version. To retain the old behavior, explicitly call `result.infer_objects(copy=False)`. To opt-in to the future behavior, set `pd.set_option('future.no_silent_downcasting', True)`\n",
      "  data_cleaned['Product Category'].replace({'Electronics':0, 'Home':1, 'Clothing':2, 'Books':3}, inplace=True)\n",
      "C:\\Users\\ASUS\\AppData\\Local\\Temp\\ipykernel_2856\\726893623.py:30: FutureWarning: A value is trying to be set on a copy of a DataFrame or Series through chained assignment using an inplace method.\n",
      "The behavior will change in pandas 3.0. This inplace method will never work because the intermediate object on which we are setting values always behaves as a copy.\n",
      "\n",
      "For example, when doing 'df[col].method(value, inplace=True)', try using 'df.method({col: value}, inplace=True)' or df[col] = df[col].method(value) instead, to perform the operation inplace on the original object.\n",
      "\n",
      "\n",
      "  data_cleaned['Payment Method'].replace({'Credit Card':0, 'Paypal':1, 'Cash':2, 'Crypto':3}, inplace=True)\n",
      "C:\\Users\\ASUS\\AppData\\Local\\Temp\\ipykernel_2856\\726893623.py:30: FutureWarning: Downcasting behavior in `replace` is deprecated and will be removed in a future version. To retain the old behavior, explicitly call `result.infer_objects(copy=False)`. To opt-in to the future behavior, set `pd.set_option('future.no_silent_downcasting', True)`\n",
      "  data_cleaned['Payment Method'].replace({'Credit Card':0, 'Paypal':1, 'Cash':2, 'Crypto':3}, inplace=True)\n"
     ]
    }
   ],
   "source": [
    "# Step 1: Remove duplicate 'Age' column\n",
    "data_cleaned = data.drop(columns=['Age'])\n",
    "\n",
    "# Step 2: Convert 'Purchase Date' to datetime format\n",
    "data_cleaned['Purchase Date'] = pd.to_datetime(data_cleaned['Purchase Date'], format=r'%d/%m/%Y %H:%M')\n",
    "\n",
    "# Step 3: Handle missing values in 'Returns' column\n",
    "# Since 'Returns' indicates whether a purchase was returned (1.0) or not (0.0),\n",
    "# we can assume missing values mean no return (0.0)\n",
    "data_cleaned['Returns'].fillna(0.0, inplace=True)\n",
    "\n",
    "# Step 4: Verify 'Total Purchase Amount' consistency\n",
    "# Calculate if Total Purchase Amount matches Product Price * Quantity\n",
    "data_cleaned['Calculated Total'] = data_cleaned['Product Price'] * data_cleaned['Quantity']\n",
    "inconsistent_totals = data_cleaned[data_cleaned['Total purchase amount'] != data_cleaned['Calculated Total']]\n",
    "\n",
    "# Remove the 'Calculated Total' column after the check\n",
    "data_cleaned.drop(columns=['Calculated Total'], inplace=True)\n",
    "\n",
    "# Step 5: Convert 'Gender' to numerical value\n",
    "# 0 = Male, 1 = Female\n",
    "data_cleaned['Gender'].replace({'Male':0, 'Female':1}, inplace=True)\n",
    "\n",
    "# Step 6: Convert 'Product Category' to numerical value\n",
    "# 0 = Electronics, 1 = Home, 2 = Clothing, 3 = Books\n",
    "data_cleaned['Product Category'].replace({'Electronics':0, 'Home':1, 'Clothing':2, 'Books':3}, inplace=True)\n",
    "\n",
    "# Step 7: Convert 'Payment Method' to numerical value\n",
    "# 0 = Credit Card, 1 = Paypal, 2 = Cash, 3 = Crypto\n",
    "data_cleaned['Payment Method'].replace({'Credit Card':0, 'Paypal':1, 'Cash':2, 'Crypto':3}, inplace=True)"
   ]
  },
  {
   "cell_type": "code",
   "execution_count": 8,
   "metadata": {},
   "outputs": [
    {
     "name": "stdout",
     "output_type": "stream",
     "text": [
      "<class 'pandas.core.frame.DataFrame'>\n",
      "RangeIndex: 250000 entries, 0 to 249999\n",
      "Data columns (total 14 columns):\n",
      " #   Column                 Non-Null Count   Dtype         \n",
      "---  ------                 --------------   -----         \n",
      " 0   Customer ID            250000 non-null  int64         \n",
      " 1   Purchase Date          250000 non-null  datetime64[ns]\n",
      " 2   Product Category       250000 non-null  int64         \n",
      " 3   Product Price          250000 non-null  int64         \n",
      " 4   Quantity               250000 non-null  int64         \n",
      " 5   Total purchase amount  250000 non-null  int64         \n",
      " 6   Payment Method         250000 non-null  int64         \n",
      " 7   Customer Age           250000 non-null  int64         \n",
      " 8   Returns                250000 non-null  int64         \n",
      " 9   Customer Name          250000 non-null  object        \n",
      " 10  Gender                 250000 non-null  int64         \n",
      " 11  Churn                  250000 non-null  float64       \n",
      " 12  Product/Income Ratio   250000 non-null  float64       \n",
      " 13  Discount Apply         250000 non-null  int64         \n",
      "dtypes: datetime64[ns](1), float64(2), int64(10), object(1)\n",
      "memory usage: 26.7+ MB\n"
     ]
    },
    {
     "data": {
      "text/plain": [
       "(None, 0)"
      ]
     },
     "execution_count": 8,
     "metadata": {},
     "output_type": "execute_result"
    }
   ],
   "source": [
    "# Output results\n",
    "data_cleaned_info = data_cleaned.info()\n",
    "inconsistent_totals_count = inconsistent_totals.shape[0]\n",
    "\n",
    "data_cleaned_info, inconsistent_totals_count"
   ]
  },
  {
   "cell_type": "code",
   "execution_count": 9,
   "metadata": {},
   "outputs": [],
   "source": [
    "# Save the cleaned dataset to a new CSV file\n",
    "data_cleaned.to_csv(r'C:\\Cheynhen\\Python\\Dataset\\e-commerce\\Finaldata_Adjusted_Income_Product_Ratio_Dataset_Cleaned.csv', index=False)"
   ]
  }
 ],
 "metadata": {
  "kernelspec": {
   "display_name": "Python",
   "language": "python",
   "name": "python3"
  },
  "language_info": {
   "codemirror_mode": {
    "name": "ipython",
    "version": 3
   },
   "file_extension": ".py",
   "mimetype": "text/x-python",
   "name": "python",
   "nbconvert_exporter": "python",
   "pygments_lexer": "ipython3",
   "version": "3.12.5"
  }
 },
 "nbformat": 4,
 "nbformat_minor": 2
}
